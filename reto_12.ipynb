{
 "cells": [
  {
   "cell_type": "markdown",
   "metadata": {},
   "source": [
    "# RETO 12\n",
    "#### Punto 1\n",
    "Desarrollar un algoritmo que imprima de manera ascendente los valores (todos del mismo tipo) de un diccionario.\n"
   ]
  },
  {
   "cell_type": "code",
   "execution_count": null,
   "metadata": {},
   "outputs": [
    {
     "name": "stdout",
     "output_type": "stream",
     "text": [
      "[1, 3, 5, 8, 32, 50]\n"
     ]
    }
   ],
   "source": [
    "#Se crea una funcion principal \n",
    "def imprimir_valores_ordenados(diccionario):\n",
    "    # Los valores se extraen en una lkista \n",
    "    valores = list(diccionario.values())  \n",
    "    \n",
    "    # Este algoritmo conformado por varios for determina el orden de los valores \n",
    "    n = len(valores)\n",
    "    for i in range(n - 1):\n",
    "        for j in range(n - 1 - i):\n",
    "            if valores[j] > valores[j + 1]:  # Intercambia si están en el orden incorrecto\n",
    "                valores[j], valores[j + 1] = valores[j + 1], valores[j]\n",
    "\n",
    "    # Se imprimen los valores \n",
    "    print(valores)\n",
    "\n",
    "# Se crea un diccionario con diversos valores \n",
    "mi_diccionario = {\"a\": 3, \"b\": 5, \"c\": 8, \"d\": 1, \"e\":50,\"f\":32}\n",
    "#Se ejecuta la función\n",
    "imprimir_valores_ordenados(mi_diccionario)\n"
   ]
  },
  {
   "cell_type": "markdown",
   "metadata": {},
   "source": [
    "#### Punto 2"
   ]
  },
  {
   "cell_type": "code",
   "execution_count": 17,
   "metadata": {},
   "outputs": [
    {
     "name": "stdout",
     "output_type": "stream",
     "text": [
      "{'a': 8, 'b': 2, 'c': 17, 'e': 21, 'd': 40, 'f': 29}\n"
     ]
    }
   ],
   "source": [
    "# se crea una funcion principal\n",
    "def mezclar_diccionarios(dic1, dic2):\n",
    "    # se hace una copia del primer diccionario para no modificarlo\n",
    "    diccionario_mezclado = dic1.copy()\n",
    "    \n",
    "    # Esta linea devuelve una lista de tuplas con (clave, valor), permitiendo recorrer el diccionario dic2.\n",
    "    for clave, valor in dic2.items():\n",
    "        if clave not in diccionario_mezclado:      #Si la clave no existe en diccionario_mezclado, se agrega con su valor correspondiente de dic2.\n",
    "            diccionario_mezclado[clave] = valor                                       #Si la clave ya existe, se ignora para evitar sobrescribir el valor de dic1.\n",
    "                  \n",
    "    return diccionario_mezclado\n",
    "\n",
    "if __name__ == \"__main__\":\n",
    " # Se dan valores a los diccionarios \n",
    " diccionario1 = {\"a\": 8, \"b\": 2, \"c\": 17,\"e\":21}\n",
    "diccionario2 = {\"b\": 22, \"c\": 30, \"d\": 40, \"f\":29, \"a\":54}\n",
    "#Se llama la funcion y se imprime \n",
    "resultado = mezclar_diccionarios(diccionario1, diccionario2)\n",
    "print(resultado)"
   ]
  },
  {
   "cell_type": "markdown",
   "metadata": {},
   "source": [
    "#### Punto 3"
   ]
  },
  {
   "cell_type": "code",
   "execution_count": null,
   "metadata": {},
   "outputs": [
    {
     "name": "stdout",
     "output_type": "stream",
     "text": [
      "Personas que practican Futbol :\n",
      "Personas con edad entre  10  y 50 :\n",
      "- Juan Antonio Díaz Coronado\n",
      "- Dorotea Maritza Luna Sol\n"
     ]
    }
   ],
   "source": [
    "import json\n",
    "## Estos son los datos que vamos a utilizar \n",
    "datos = {\n",
    "    \"jadiazcoronado\": {\n",
    "        \"nombres\": \"Juan Antonio\",\n",
    "        \"apellidos\": \"Díaz Coronado\",\n",
    "        \"edad\": 19,\n",
    "        \"colombiano\": True,\n",
    "        \"deportes\": [\"Fútbol\", \"Ajedrez\", \"Gimnasia\"]\n",
    "    },\n",
    "    \"dmlunasol\": {\n",
    "        \"nombres\": \"Dorotea Maritza\",\n",
    "        \"apellidos\": \"Luna Sol\",\n",
    "        \"edad\": 25,\n",
    "        \"colombiano\": False,\n",
    "        \"deportes\": [\"Baloncesto\", \"Ajedrez\", \"Gimnasia\"]\n",
    "    }\n",
    "}\n",
    "#Se crea una funcion que busque los deportes \n",
    "def buscar_por_deporte(deporte):\n",
    "    print(\"Personas que practican\",deporte,\":\")\n",
    "    #Aqui se recorren los datos \n",
    "    for usuario, info in datos.items():\n",
    "        if deporte in info[\"deportes\"]: #si se encuentra una coincidencia se imprime \n",
    "           print(\"-\", info[\"nombres\"], info[\"apellidos\"])\n",
    "#lo mismo que el anterior pero con la edad \n",
    "def buscar_por_edad(edad_min, edad_max):\n",
    "    print(\"Personas con edad entre \",edad_min, \" y\", edad_max, \":\")\n",
    "    for usuario, info in datos.items():\n",
    "        if edad_min <= info[\"edad\"] <= edad_max:\n",
    "           print(\"-\", info[\"nombres\"], info[\"apellidos\"])\n",
    "\n",
    "# Se pide el deporte y se usa la funcion correspondiente \n",
    "deporte_input = input(\"Ingrese un deporte: \")\n",
    "buscar_por_deporte(deporte_input)\n",
    "\n",
    "# Para utilizar la funcion se piden los criterios que serian los rangos de edades \n",
    "edad_min = int(input(\"Ingrese la edad mínima: \"))\n",
    "edad_max = int(input(\"Ingrese la edad máxima: \"))\n",
    "buscar_por_edad(edad_min, edad_max)\n"
   ]
  },
  {
   "cell_type": "markdown",
   "metadata": {},
   "source": [
    "#### Punto 4"
   ]
  },
  {
   "cell_type": "code",
   "execution_count": null,
   "metadata": {},
   "outputs": [],
   "source": [
    "import json\n",
    "\n",
    "# Cargar archivo\n",
    "jsonString = '''\n",
    "{\\\"dt\\\": {\\\"0\\\": 1685116800, \\\"1\\\": 1685203200, \\\"2\\\": 1685289600, \\\"3\\\": 1685376000, \\\"4\\\": 1685462400, \\\"5\\\": 1685548800, \\\"6\\\": 1685635200, \\\"7\\\": 1685721600}, \\\"sunrise\\\": {\\\"0\\\": 1685097348, \\\"1\\\": 1685183745, \\\"2\\\": 1685270143, \\\"3\\\": 1685356542, \\\"4\\\": 1685442942, \\\"5\\\": 1685529342, \\\"6\\\": 1685615743, \\\"7\\\": 1685702145}, \\\"sunset\\\": {\\\"0\\\": 1685143042, \\\"1\\\": 1685229458, \\\"2\\\": 1685315875, \\\"3\\\": 1685402291, \\\"4\\\": 1685488708, \\\"5\\\": 1685575124, \\\"6\\\": 1685661541, \\\"7\\\": 1685747958}, \\\"moonrise\\\": {\\\"0\\\": 1685118300, \\\"1\\\": 1685207460, \\\"2\\\": 1685296620, \\\"3\\\": 1685385720, \\\"4\\\": 1685474880, \\\"5\\\": 1685564220, \\\"6\\\": 1685653740, \\\"7\\\": 1685743500}, \\\"moonset\\\": {\\\"0\\\": 0, \\\"1\\\": 1685164320, \\\"2\\\": 1685253000, \\\"3\\\": 1685341560, \\\"4\\\": 1685430120, \\\"5\\\": 1685518740, \\\"6\\\": 1685607600, \\\"7\\\": 1685696640}, \\\"moon_phase\\\": {\\\"0\\\": 0.22, \\\"1\\\": 0.25, \\\"2\\\": 0.28, \\\"3\\\": 0.31, \\\"4\\\": 0.35, \\\"5\\\": 0.38, \\\"6\\\": 0.41, \\\"7\\\": 0.45}, \\\"pressure\\\": {\\\"0\\\": 1011, \\\"1\\\": 1012, \\\"2\\\": 1012, \\\"3\\\": 1012, \\\"4\\\": 1012, \\\"5\\\": 1012, \\\"6\\\": 1012, \\\"7\\\": 1011}, \\\"humidity\\\": {\\\"0\\\": 85, \\\"1\\\": 61, \\\"2\\\": 68, \\\"3\\\": 74, \\\"4\\\": 84, \\\"5\\\": 66, \\\"6\\\": 81, \\\"7\\\": 82}, \\\"dew_point\\\": {\\\"0\\\": 23.93, \\\"1\\\": 22.5, \\\"2\\\": 23.67, \\\"3\\\": 23.35, \\\"4\\\": 24.22, \\\"5\\\": 22.73, \\\"6\\\": 23.18, \\\"7\\\": 22.93}, \\\"velViento\\\": {\\\"0\\\": 3.56, \\\"1\\\": 5.07, \\\"2\\\": 5.38, \\\"3\\\": 3.95, \\\"4\\\": 4.74, \\\"5\\\": 3.75, \\\"6\\\": 4.08, \\\"7\\\": 5.94}, \\\"dirViento\\\": {\\\"0\\\": 188, \\\"1\\\": 14, \\\"2\\\": 21, \\\"3\\\": 23, \\\"4\\\": 40, \\\"5\\\": 330, \\\"6\\\": 176, \\\"7\\\": 168}, \\\"wind_gust\\\": {\\\"0\\\": 6.47, \\\"1\\\": 8.86, \\\"2\\\": 8.95, \\\"3\\\": 6.12, \\\"4\\\": 7.17, \\\"5\\\": 5.4, \\\"6\\\": 5.13, \\\"7\\\": 9.67}, \\\"weather\\\": {\\\"0\\\": [{\\\"id\\\": 501, \\\"main\\\": \\\"Rain\\\", \\\"description\\\": \\\"lluvia moderada\\\", \\\"icon\\\": \\\"10d\\\"}], \\\"1\\\": [{\\\"id\\\": 500, \\\"main\\\": \\\"Rain\\\", \\\"description\\\": \\\"lluvia ligera\\\", \\\"icon\\\": \\\"10d\\\"}], \\\"2\\\": [{\\\"id\\\": 501, \\\"main\\\": \\\"Rain\\\", \\\"description\\\": \\\"lluvia moderada\\\", \\\"icon\\\": \\\"10d\\\"}], \\\"3\\\": [{\\\"id\\\": 500, \\\"main\\\": \\\"Rain\\\", \\\"description\\\": \\\"lluvia ligera\\\", \\\"icon\\\": \\\"10d\\\"}], \\\"4\\\": [{\\\"id\\\": 501, \\\"main\\\": \\\"Rain\\\", \\\"description\\\": \\\"lluvia moderada\\\", \\\"icon\\\": \\\"10d\\\"}], \\\"5\\\": [{\\\"id\\\": 500, \\\"main\\\": \\\"Rain\\\", \\\"description\\\": \\\"lluvia ligera\\\", \\\"icon\\\": \\\"10d\\\"}], \\\"6\\\": [{\\\"id\\\": 500, \\\"main\\\": \\\"Rain\\\", \\\"description\\\": \\\"lluvia ligera\\\", \\\"icon\\\": \\\"10d\\\"}], \\\"7\\\": [{\\\"id\\\": 500, \\\"main\\\": \\\"Rain\\\", \\\"description\\\": \\\"lluvia ligera\\\", \\\"icon\\\": \\\"10d\\\"}]}, \\\"clouds\\\": {\\\"0\\\": 100, \\\"1\\\": 82, \\\"2\\\": 99, \\\"3\\\": 100, \\\"4\\\": 100, \\\"5\\\": 59, \\\"6\\\": 100, \\\"7\\\": 100}, \\\"pop\\\": {\\\"0\\\": 1.0, \\\"1\\\": 0.65, \\\"2\\\": 0.98, \\\"3\\\": 0.86, \\\"4\\\": 1.0, \\\"5\\\": 0.62, \\\"6\\\": 0.93, \\\"7\\\": 0.95}, \\\"prcp\\\": {\\\"0\\\": 40.0, \\\"1\\\": 1.65, \\\"2\\\": 14.01, \\\"3\\\": 5.07, \\\"4\\\": 16.55, \\\"5\\\": 2.17, \\\"6\\\": 2.77, \\\"7\\\": 1.73}, \\\"uvi\\\": {\\\"0\\\": 10.14, \\\"1\\\": 12.78, \\\"2\\\": 12.73, \\\"3\\\": 8.44, \\\"4\\\": 0.59, \\\"5\\\": 1.0, \\\"6\\\": 1.0, \\\"7\\\": 1.0}, \\\"temp.day\\\": {\\\"0\\\": 26.62, \\\"1\\\": 30.95, \\\"2\\\": 30.17, \\\"3\\\": 28.37, \\\"4\\\": 27.22, \\\"5\\\": 29.78, \\\"6\\\": 26.83, \\\"7\\\": 26.36}, \\\"tmpMin\\\": {\\\"0\\\": 25.64, \\\"1\\\": 24.64, \\\"2\\\": 25.84, \\\"3\\\": 25.56, \\\"4\\\": 25.72, \\\"5\\\": 24.86, \\\"6\\\": 25.96, \\\"7\\\": 25.47}, \\\"tmpMax\\\": {\\\"0\\\": 27.16, \\\"1\\\": 31.1, \\\"2\\\": 30.2, \\\"3\\\": 29.5, \\\"4\\\": 28.87, \\\"5\\\": 29.78, \\\"6\\\": 28.96, \\\"7\\\": 28.25}, \\\"temp.night\\\": {\\\"0\\\": 25.67, \\\"1\\\": 27.39, \\\"2\\\": 26.24, \\\"3\\\": 27.2, \\\"4\\\": 25.92, \\\"5\\\": 27.14, \\\"6\\\": 26.56, \\\"7\\\": 25.66}, \\\"temp.eve\\\": {\\\"0\\\": 25.91, \\\"1\\\": 28.73, \\\"2\\\": 27.42, \\\"3\\\": 28.27, \\\"4\\\": 27.94, \\\"5\\\": 29.29, \\\"6\\\": 28.96, \\\"7\\\": 28.12}, \\\"temp.morn\\\": {\\\"0\\\": 26.5, \\\"1\\\": 24.64, \\\"2\\\": 26.13, \\\"3\\\": 25.72, \\\"4\\\": 26.04, \\\"5\\\": 24.86, \\\"6\\\": 25.98, \\\"7\\\": 25.57}, \\\"feels_like.day\\\": {\\\"0\\\": 26.62, \\\"1\\\": 34.99, \\\"2\\\": 34.96, \\\"3\\\": 32.03, \\\"4\\\": 30.67, \\\"5\\\": 33.62, \\\"6\\\": 29.45, \\\"7\\\": 26.36}, \\\"feels_like.night\\\": {\\\"0\\\": 26.56, \\\"1\\\": 30.98, \\\"2\\\": 26.24, \\\"3\\\": 30.62, \\\"4\\\": 26.84, \\\"5\\\": 30.16, \\\"6\\\": 26.56, \\\"7\\\": 26.45}, \\\"feels_like.eve\\\": {\\\"0\\\": 26.85, \\\"1\\\": 32.49, \\\"2\\\": 30.94, \\\"3\\\": 31.8, \\\"4\\\": 31.51, \\\"5\\\": 33.17, \\\"6\\\": 32.64, \\\"7\\\": 31.18}, \\\"feels_like.morn\\\": {\\\"0\\\": 26.5, \\\"1\\\": 25.48, \\\"2\\\": 26.13, \\\"3\\\": 26.62, \\\"4\\\": 26.04, \\\"5\\\": 25.73, \\\"6\\\": 25.98, \\\"7\\\": 26.4}, \\\"date\\\": {\\\"0\\\": 1685098800000, \\\"1\\\": 1685185200000, \\\"2\\\": 1685271600000, \\\"3\\\": 1685358000000, \\\"4\\\": 1685444400000, \\\"5\\\": 1685530800000, \\\"6\\\": 1685617200000, \\\"7\\\": 1685703600000}, \\\"main\\\": {\\\"0\\\": \\\"Rain\\\", \\\"1\\\": \\\"Rain\\\", \\\"2\\\": \\\"Rain\\\", \\\"3\\\": \\\"Rain\\\", \\\"4\\\": \\\"Rain\\\", \\\"5\\\": \\\"Rain\\\", \\\"6\\\": \\\"Rain\\\", \\\"7\\\": \\\"Rain\\\"}, \\\"description\\\": {\\\"0\\\": \\\"lluvia moderada\\\", \\\"1\\\": \\\"lluvia ligera\\\", \\\"2\\\": \\\"lluvia moderada\\\", \\\"3\\\": \\\"lluvia ligera\\\", \\\"4\\\": \\\"lluvia moderada\\\", \\\"5\\\": \\\"lluvia ligera\\\", \\\"6\\\": \\\"lluvia ligera\\\", \\\"7\\\": \\\"lluvia ligera\\\"}, \\\"icono\\\": {\\\"0\\\": \\\"10d\\\", \\\"1\\\": \\\"10d\\\", \\\"2\\\": \\\"10d\\\", \\\"3\\\": \\\"10d\\\", \\\"4\\\": \\\"10d\\\", \\\"5\\\": \\\"10d\\\", \\\"6\\\": \\\"10d\\\", \\\"7\\\": \\\"10d\\\"}, \\\"alertPrecip\\\": {\\\"0\\\": \\\"X\\\", \\\"1\\\": \\\"-\\\", \\\"2\\\": \\\"-\\\", \\\"3\\\": \\\"-\\\", \\\"4\\\": \\\"-\\\", \\\"5\\\": \\\"-\\\", \\\"6\\\": \\\"-\\\", \\\"7\\\": \\\"-\\\"}, \\\"alertAlertas\\\": {\\\"0\\\": \\\"-\\\", \\\"1\\\": \\\"-\\\", \\\"2\\\": \\\"-\\\", \\\"3\\\": \\\"-\\\", \\\"4\\\": \\\"-\\\", \\\"5\\\": \\\"-\\\", \\\"6\\\": \\\"-\\\", \\\"7\\\": \\\"-\\\"}, \\\"alertVelViento\\\": {\\\"0\\\": \\\"-\\\", \\\"1\\\": \\\"-\\\", \\\"2\\\": \\\"X\\\", \\\"3\\\": \\\"-\\\", \\\"4\\\": \\\"-\\\", \\\"5\\\": \\\"-\\\", \\\"6\\\": \\\"-\\\", \\\"7\\\": \\\"-\\\"}, \\\"alertTmpMax\\\": {\\\"0\\\": \\\"-\\\", \\\"1\\\": \\\"-\\\", \\\"2\\\": \\\"-\\\", \\\"3\\\": \\\"-\\\", \\\"4\\\": \\\"-\\\", \\\"5\\\": \\\"X\\\", \\\"6\\\": \\\"-\\\", \\\"7\\\": \\\"-\\\"}, \\\"alertTmpMin\\\": {\\\"0\\\": \\\"-\\\", \\\"1\\\": \\\"X\\\", \\\"2\\\": \\\"-\\\", \\\"3\\\": \\\"-\\\", \\\"4\\\": \\\"-\\\", \\\"5\\\": \\\"-\\\", \\\"6\\\": \\\"-\\\", \\\"7\\\": \\\"-\\\"}, \\\"recomendaciones\\\": {\\\"lluvias\\\": \\\"Realice una revisi\\\\u00f3n y limpieza a la red de desague y canales existentes ENTER8 Cuente con una estaci\\\\u00f3n de bombeo, que debe estar ubicada en el punto m\\\\u00e1s bajo del predio. Aseg\\\\u00farese de encender y probar el sistema de bombeo al menos una vez al mes y hacer un mantenimiento mensual al equipo de bombeoENTER8 Los productos alojados en zonas de almacenamiento deben mantenersen sobre estibas - estanterias, con el fin de que no entren en contacto directo con el agua.\\\", \\\"vientos\\\": \\\"-\\\", \\\"temperatura\\\": \\\"-\\\"}}\n",
    "'''\n",
    "data = json.loads(jsonString)\n",
    "\n"
   ]
  },
  {
   "cell_type": "markdown",
   "metadata": {},
   "source": [
    "#### Punto 5\n"
   ]
  },
  {
   "cell_type": "code",
   "execution_count": null,
   "metadata": {},
   "outputs": [],
   "source": [
    "import requests\n",
    "import json\n",
    "\n",
    "apis = {\n",
    "    \"Clima\": \"https://api.open-meteo.com/v1/forecast?latitude=40.7128&longitude=-74.0060&current_weather=true\",\n",
    "    \"Bitcoin\": \"https://api.coindesk.com/v1/bpi/currentprice.json\",\n",
    "  \n",
    "}\n",
    "\n",
    "# Función para obtener y procesar datos JSON de una API\n",
    "def obtener_datos(api_nombre, url):\n",
    "    print(\" Conectando a la API de\" ,api_nombre)\n",
    "    respuesta = requests.get(url)\n",
    "\n",
    "    if respuesta.status_code == 200:\n",
    "        datos = respuesta.json()\n",
    "        print(\"JSON de \", api_nombre)\n",
    "        print(json.dumps(datos, indent=4))  # Imprimir JSON formateado\n",
    "        \n",
    "        print(\" Pares Clave : Valor\")\n",
    "        for clave, valor in datos.items():\n",
    "            print(clave,\":\",valor)\n",
    "    else:\n",
    "        print(\" Error al obtener datos de \",api_nombre, \"código\",respuesta.status_code)\n",
    "\n",
    "# Iterar sobre las APIs y obtener los datos\n",
    "for nombre, url in apis.items():\n",
    "    obtener_datos(nombre, url)\n"
   ]
  }
 ],
 "metadata": {
  "kernelspec": {
   "display_name": "Python 3",
   "language": "python",
   "name": "python3"
  },
  "language_info": {
   "codemirror_mode": {
    "name": "ipython",
    "version": 3
   },
   "file_extension": ".py",
   "mimetype": "text/x-python",
   "name": "python",
   "nbconvert_exporter": "python",
   "pygments_lexer": "ipython3",
   "version": "3.13.0"
  }
 },
 "nbformat": 4,
 "nbformat_minor": 2
}
